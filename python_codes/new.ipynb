{
 "cells": [
  {
   "cell_type": "code",
   "execution_count": 73,
   "metadata": {},
   "outputs": [],
   "source": []
  },
  {
   "cell_type": "code",
   "execution_count": 74,
   "metadata": {},
   "outputs": [
    {
     "data": {
      "text/html": [
       "<div>\n",
       "<style scoped>\n",
       "    .dataframe tbody tr th:only-of-type {\n",
       "        vertical-align: middle;\n",
       "    }\n",
       "\n",
       "    .dataframe tbody tr th {\n",
       "        vertical-align: top;\n",
       "    }\n",
       "\n",
       "    .dataframe thead th {\n",
       "        text-align: right;\n",
       "    }\n",
       "</style>\n",
       "<table border=\"1\" class=\"dataframe\">\n",
       "  <thead>\n",
       "    <tr style=\"text-align: right;\">\n",
       "      <th></th>\n",
       "      <th>Total Nodes</th>\n",
       "      <th>Hit</th>\n",
       "      <th>Percentage</th>\n",
       "    </tr>\n",
       "    <tr>\n",
       "      <th>Unnamed: 0</th>\n",
       "      <th></th>\n",
       "      <th></th>\n",
       "      <th></th>\n",
       "    </tr>\n",
       "  </thead>\n",
       "  <tbody>\n",
       "    <tr>\n",
       "      <th>Statement Blocks</th>\n",
       "      <td>7191</td>\n",
       "      <td>7060.0</td>\n",
       "      <td>98.1783</td>\n",
       "    </tr>\n",
       "    <tr>\n",
       "      <th>Implicit Blocks</th>\n",
       "      <td>697</td>\n",
       "      <td>689.0</td>\n",
       "      <td>98.8522</td>\n",
       "    </tr>\n",
       "    <tr>\n",
       "      <th>Basic Conditions</th>\n",
       "      <td>20646</td>\n",
       "      <td>20449.0</td>\n",
       "      <td>99.0458</td>\n",
       "    </tr>\n",
       "    <tr>\n",
       "      <th>Modified Conditions</th>\n",
       "      <td>7551</td>\n",
       "      <td>7490.0</td>\n",
       "      <td>99.1922</td>\n",
       "    </tr>\n",
       "  </tbody>\n",
       "</table>\n",
       "</div>"
      ],
      "text/plain": [
       "                    Total Nodes      Hit Percentage\n",
       "Unnamed: 0                                         \n",
       "Statement Blocks           7191   7060.0    98.1783\n",
       "Implicit Blocks             697    689.0    98.8522\n",
       "Basic Conditions          20646  20449.0    99.0458\n",
       "Modified Conditions        7551   7490.0    99.1922"
      ]
     },
     "execution_count": 74,
     "metadata": {},
     "output_type": "execute_result"
    }
   ],
   "source": [
    "df_dict = open_excel(excel_files)\n",
    "new_df = open_excel_dataframe(df_dict)"
   ]
  },
  {
   "cell_type": "code",
   "execution_count": 75,
   "metadata": {},
   "outputs": [],
   "source": [
    "def percent_graph(new_df,imagename):\n",
    "    ax = new_df['Percentage'].plot(kind=\"bar\",color=['#F5A2A2', '#ABD4AD', '#4A254B', '#7181AC'])\n",
    "    for p in ax.patches:\n",
    "        width = p.get_width()\n",
    "        height = p.get_height()\n",
    "        x, y = p.get_xy() \n",
    "        ax.annotate(format(p.get_height(),'.2f'), (x + width/2, y + height*1.02), ha='center')\n",
    "    plt.title(\"Overall Summary sheet\")\n",
    "    plt.xlabel(\"Blocks\")\n",
    "    plt.ylabel(\"Overall Percentage\")\n",
    "    plt.savefig(imagename + \"p.png\") "
   ]
  },
  {
   "cell_type": "code",
   "execution_count": 76,
   "metadata": {},
   "outputs": [
    {
     "data": {
      "image/png": "[encoded data removed]",
      "text/plain": [
       "<Figure size 432x288 with 1 Axes>"
      ]
     },
     "metadata": {
      "needs_background": "light"
     },
     "output_type": "display_data"
    }
   ],
   "source": [
    "percent_graph(new_df,'xyz')"
   ]
  },
  {
   "cell_type": "code",
   "execution_count": 37,
   "metadata": {},
   "outputs": [
    {
     "data": {
      "text/plain": [
       "Text(0, 0.5, 'Pies Consumed')"
      ]
     },
     "execution_count": 37,
     "metadata": {},
     "output_type": "execute_result"
    },
    {
     "data": {
      "image/png": "[encoded data removed]",
      "text/plain": [
       "<Figure size 432x288 with 1 Axes>"
      ]
     },
     "metadata": {
      "needs_background": "light"
     },
     "output_type": "display_data"
    }
   ],
   "source": [
    "from matplotlib import pyplot as plt\n",
    "new_df['Percentage'].plot(kind=\"bar\", title=\"test\")\n",
    "\n",
    "plt.title(\"Mince Pie Consumption Study Results\")\n",
    "plt.xlabel(\"Family Member\")\n",
    "plt.ylabel(\"Pies Consumed\")"
   ]
  },
  {
   "cell_type": "code",
   "execution_count": null,
   "metadata": {},
   "outputs": [],
   "source": []
  }
 ],
 "metadata": {
  "kernelspec": {
   "display_name": "Python 3",
   "language": "python",
   "name": "python3"
  },
  "language_info": {
   "codemirror_mode": {
    "name": "ipython",
    "version": 3
   },
   "file_extension": ".py",
   "mimetype": "text/x-python",
   "name": "python",
   "nbconvert_exporter": "python",
   "pygments_lexer": "ipython3",
   "version": "3.8.5"
  }
 },
 "nbformat": 4,
 "nbformat_minor": 4
}
