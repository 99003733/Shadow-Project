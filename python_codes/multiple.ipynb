{
 "cells": [
  {
   "cell_type": "code",
   "execution_count": 2,
   "metadata": {},
   "outputs": [],
   "source": [
    "##################################\n",
    "# Importing the necessary library required\n",
    "#################################\n",
    "\n",
    "from tkinter import *\n",
    "from tkinter.ttk import *\n",
    "from tkinter import filedialog\n",
    "from openpyxl.workbook import Workbook\n",
    "from openpyxl import load_workbook\n",
    "import pandas as pd\n",
    "from PIL import ImageTk, Image\n",
    "from matplotlib import pyplot as plt\n",
    "import webbrowser\n",
    "import os\n",
    "import warnings\n",
    "import openpyxl\n",
    "\n",
    "warnings.filterwarnings(\"ignore\")"
   ]
  },
  {
   "cell_type": "code",
   "execution_count": 25,
   "metadata": {},
   "outputs": [],
   "source": [
    "excel_files = ['GCU_SCA_A_D_CONSOLIDATED_REPORT_BP3.0.xlsm']\n",
    "\n",
    "wb = openpyxl.load_workbook('GCU_SCA_A_D_CONSOLIDATED_REPORT_BP3.0.xlsm')\n",
    "wb.sheetnames[4:]\n",
    "\n",
    "df_dict = {}\n",
    "def open_excel(excel_files,sheetname):\n",
    "    for f in excel_files:\n",
    "        df = pd.read_excel(f, sheet_name=sheetname, index_col=None)\n",
    "        df1 = df.loc[[5]]\n",
    "        # df1.set_index('Unnamed: 0', inplace=True)\n",
    "        # df1.dropna(inplace=True)\n",
    "        df_dict[sheetname] = df1\n",
    "    return df_dict"
   ]
  },
  {
   "cell_type": "code",
   "execution_count": 26,
   "metadata": {},
   "outputs": [],
   "source": [
    "def open_excel_dataframe(new_df):\n",
    "    xdf = new_df.loc[:,'Unnamed: 0' : 'Hit']\n",
    "    return xdf"
   ]
  },
  {
   "cell_type": "code",
   "execution_count": 27,
   "metadata": {},
   "outputs": [],
   "source": [
    "def get_data():\n",
    "    counts = []\n",
    "    for sheets in wb.sheetnames[4:]:\n",
    "        df_dict = open_excel(excel_files,sheets)\n",
    "        new_df = df_dict[sheets]\n",
    "        xdf = open_excel_dataframe(new_df)\n",
    "\n",
    "        xdf['t-h']=xdf['Total Nodes'] - xdf['Hit']\n",
    "        counts.append(xdf[xdf['t-h']==0].shape[0])\n",
    "        num = counts.count(1)\n",
    "\n",
    "    print(\"Source Code Files: \\n\")\n",
    "    print(\"Total Number of source code files : \",len(wb.sheetnames[4:]))\n",
    "    print(\"Number of files fully covered : \",num)\n",
    "    print(\"Number of files Partially covered : \",(len(wb.sheetnames[4:]) - num))\n",
    "    \n"
   ]
  },
  {
   "cell_type": "code",
   "execution_count": 28,
   "metadata": {},
   "outputs": [
    {
     "name": "stdout",
     "output_type": "stream",
     "text": [
      "Source Code Files: \n",
      "\n",
      "Total Number of source code files :  92\n",
      "Number of files fully covered :  69\n",
      "Number of files Partially covered :  23\n"
     ]
    }
   ],
   "source": [
    "get_data()"
   ]
  },
  {
   "cell_type": "code",
   "execution_count": 19,
   "metadata": {},
   "outputs": [],
   "source": [
    "excel_files = ['GCU_SCA_A_D_CONSOLIDATED_REPORT_BP3.0.xlsm','GCU_SCA_E_I_CONSOLIDATED_REPORT_BP3.0.xlsm','GCU_SCA_L_P_CONSOLIDATED_REPORT_BP3.0.xlsm','GCU_SCA_R_X_CONSOLIDATED_REPORT_BP3.0.xlsm']\n",
    "\n",
    "df_dict = {}\n",
    "def multiple_excel(individual):\n",
    "    wb = openpyxl.load_workbook(individual)\n",
    "    for sheets in wb.sheetnames[4:]:\n",
    "        df = pd.read_excel(individual, sheet_name=sheets, index_col=None)\n",
    "        df1 = df.loc[[5]]\n",
    "    # df1.set_index('Unnamed: 0', inplace=True)\n",
    "    # df1.dropna(inplace=True)\n",
    "        df_dict[sheets] = df1\n",
    "    return df_dict\n",
    "\n",
    "for individual in excel_files:\n",
    "    multiple_excel(individual)\n",
    "\n",
    "\n",
    "    "
   ]
  },
  {
   "cell_type": "code",
   "execution_count": 20,
   "metadata": {},
   "outputs": [
    {
     "data": {
      "text/plain": [
       "271"
      ]
     },
     "execution_count": 20,
     "metadata": {},
     "output_type": "execute_result"
    }
   ],
   "source": [
    "df_dict = multiple_excel(individual)\n",
    "len(df_dict)"
   ]
  },
  {
   "cell_type": "code",
   "execution_count": null,
   "metadata": {},
   "outputs": [],
   "source": []
  }
 ],
 "metadata": {
  "kernelspec": {
   "display_name": "Python 3",
   "language": "python",
   "name": "python3"
  },
  "language_info": {
   "codemirror_mode": {
    "name": "ipython",
    "version": 3
   },
   "file_extension": ".py",
   "mimetype": "text/x-python",
   "name": "python",
   "nbconvert_exporter": "python",
   "pygments_lexer": "ipython3",
   "version": "3.8.5"
  }
 },
 "nbformat": 4,
 "nbformat_minor": 4
}
